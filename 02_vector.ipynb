{
 "cells": [
  {
   "cell_type": "code",
   "execution_count": 35,
   "id": "b044ca25",
   "metadata": {},
   "outputs": [],
   "source": [
    "# imports\n",
    "import os\n",
    "import glob\n",
    "from dotenv import load_dotenv\n",
    "import gradio as gr\n"
   ]
  },
  {
   "cell_type": "code",
   "execution_count": 36,
   "id": "02beb22f",
   "metadata": {},
   "outputs": [],
   "source": [
    "from langchain.document_loaders import DirectoryLoader, TextLoader\n",
    "from langchain.text_splitter import CharacterTextSplitter\n",
    "from langchain.schema import Document\n",
    "os.environ[\"CHROMA_TELEMETRY_ENABLED\"] = \"FALSE\"\n",
    "from langchain_chroma import Chroma\n",
    "import shutil\n",
    "import numpy as np\n",
    "import plotly.graph_objects as go\n",
    "from sklearn.manifold import TSNE\n",
    "from langchain_community.embeddings import HuggingFaceEmbeddings\n",
    "from langchain_groq import ChatGroq\n",
    "\n"
   ]
  },
  {
   "cell_type": "code",
   "execution_count": 37,
   "id": "c15e2a96",
   "metadata": {},
   "outputs": [],
   "source": [
    "MODEL = \"meta-llama/llama-4-scout-17b-16e-instruct\"\n",
    "db_name = \"vector_db\""
   ]
  },
  {
   "cell_type": "code",
   "execution_count": 38,
   "id": "70e44922",
   "metadata": {},
   "outputs": [
    {
     "name": "stderr",
     "output_type": "stream",
     "text": [
      "d:\\.MANAY\\MANAY\\Code\\Projects\\RAG_workflow\\venv\\Lib\\site-packages\\langchain_groq\\chat_models.py:370: UserWarning:\n",
      "\n",
      "WARNING! GROQ_API_KEY is not default parameter.\n",
      "                    GROQ_API_KEY was transferred to model_kwargs.\n",
      "                    Please confirm that GROQ_API_KEY is what you intended.\n",
      "\n"
     ]
    }
   ],
   "source": [
    "load_dotenv()\n",
    "llm = ChatGroq(\n",
    "    GROQ_API_KEY=os.getenv(\"GROQ_API_KEY\"),\n",
    "    model_name=\"meta-llama/llama-4-scout-17b-16e-instruct\"\n",
    ")"
   ]
  },
  {
   "cell_type": "code",
   "execution_count": 39,
   "id": "c81ff96d",
   "metadata": {},
   "outputs": [],
   "source": [
    "folders = glob.glob(\"knowledge-base/*\")\n",
    "\n",
    "documents = []\n",
    "for folder in folders:\n",
    "    doc_type = os.path.basename(folder)\n",
    "    loader = DirectoryLoader(folder,glob=\"**/*.md\",loader_cls=lambda path: TextLoader(path, encoding='utf-8'))\n",
    "    folder_docs = loader.load()\n",
    "    for doc in folder_docs:\n",
    "        doc.metadata['doc_type'] = doc_type\n",
    "        documents.append(doc)"
   ]
  },
  {
   "cell_type": "code",
   "execution_count": 40,
   "id": "f2aa8a62",
   "metadata": {},
   "outputs": [],
   "source": [
    "text_splitter = CharacterTextSplitter(\n",
    "    chunk_size=700,\n",
    "    chunk_overlap=120,\n",
    "    separator=\"\\n\\n\"\n",
    ")\n",
    "\n",
    "chunks = text_splitter.split_documents(documents)"
   ]
  },
  {
   "cell_type": "code",
   "execution_count": 41,
   "id": "5bbb18e7",
   "metadata": {},
   "outputs": [
    {
     "data": {
      "text/plain": [
       "33"
      ]
     },
     "execution_count": 41,
     "metadata": {},
     "output_type": "execute_result"
    }
   ],
   "source": [
    "len(chunks)"
   ]
  },
  {
   "cell_type": "code",
   "execution_count": 42,
   "id": "a3597216",
   "metadata": {},
   "outputs": [
    {
     "name": "stdout",
     "output_type": "stream",
     "text": [
      "05_contact, 03_student_life, 00_institute_overview, 02_admissions, 01_academics, 04_infrastructure\n"
     ]
    }
   ],
   "source": [
    "doc_types = set(chunk.metadata['doc_type'] for chunk in chunks)\n",
    "print(', '.join(doc_types))"
   ]
  },
  {
   "cell_type": "code",
   "execution_count": 43,
   "id": "5ca926f7",
   "metadata": {},
   "outputs": [
    {
     "name": "stderr",
     "output_type": "stream",
     "text": [
      "<All keys matched successfully>\n"
     ]
    }
   ],
   "source": [
    "#vector embedding model\n",
    "embeddings = HuggingFaceEmbeddings(\n",
    "    model_name=\"nomic-ai/nomic-embed-text-v1\",\n",
    "    model_kwargs={'trust_remote_code': True}\n",
    ")"
   ]
  },
  {
   "cell_type": "code",
   "execution_count": 44,
   "id": "cf0a15e0",
   "metadata": {},
   "outputs": [
    {
     "name": "stderr",
     "output_type": "stream",
     "text": [
      "Failed to send telemetry event ClientStartEvent: capture() takes 1 positional argument but 3 were given\n",
      "Failed to send telemetry event ClientCreateCollectionEvent: capture() takes 1 positional argument but 3 were given\n"
     ]
    }
   ],
   "source": [
    "# Create chroma vectorstore\n",
    "vectorstore = Chroma.from_documents(\n",
    "    documents=chunks,\n",
    "    embedding=embeddings,\n",
    "    persist_directory=db_name\n",
    ")"
   ]
  },
  {
   "cell_type": "code",
   "execution_count": 45,
   "id": "af57b381",
   "metadata": {},
   "outputs": [
    {
     "data": {
      "text/plain": [
       "66"
      ]
     },
     "execution_count": 45,
     "metadata": {},
     "output_type": "execute_result"
    }
   ],
   "source": [
    "vectorstore._collection.count()"
   ]
  },
  {
   "cell_type": "code",
   "execution_count": 46,
   "id": "b0c3b28d",
   "metadata": {},
   "outputs": [
    {
     "name": "stdout",
     "output_type": "stream",
     "text": [
      "768\n"
     ]
    }
   ],
   "source": [
    "#dimensions of a vector in vectorstore vector_db\n",
    "collection = vectorstore._collection\n",
    "sample_embedding = collection.get(limit=1, include=['embeddings'])['embeddings'][0]\n",
    "dimensions = len(sample_embedding)\n",
    "print(dimensions)"
   ]
  },
  {
   "cell_type": "code",
   "execution_count": 47,
   "id": "dc3aaf10",
   "metadata": {},
   "outputs": [],
   "source": [
    "result = collection.get(include=['embeddings', 'documents', 'metadatas'])\n",
    "vectors = np.array(result['embeddings'])\n",
    "documents = result['documents']\n",
    "doc_types = [metadata['doc_type'] for metadata in result['metadatas']]\n",
    "colors = [['blue', 'green', 'red', 'orange', 'yellow', 'pink'][['00_institute_overview', '01_academics', '02_admissions', '03_student_life', '04_infrastructure', '05_contact'].index(t)] for t in doc_types]\n",
    "\n",
    "tsne = TSNE(n_components=3, random_state=42)\n",
    "reduced_vectors = tsne.fit_transform(vectors)"
   ]
  },
  {
   "cell_type": "code",
   "execution_count": 48,
   "id": "97c0010a",
   "metadata": {},
   "outputs": [],
   "source": [
    "hover_text = [\n",
    "    f\"Type: {doc.metadata['doc_type']}<br>Text: {doc.page_content[:100]}...\"\n",
    "    for doc in chunks\n",
    "]\n",
    "doc_types = [doc.metadata['doc_type'] for doc in chunks]\n",
    "\n",
    "# Create 2D scatter plot\n",
    "fig = go.Figure(data=[\n",
    "    go.Scatter3d(\n",
    "        x=reduced_vectors[:, 0],\n",
    "        y=reduced_vectors[:, 1],\n",
    "        z=reduced_vectors[:, 2],\n",
    "        mode='markers',\n",
    "        marker=dict(\n",
    "            size=6,\n",
    "            color=colors,  # color should match number of docs\n",
    "            opacity=0.8,\n",
    "            line=dict(width=0.5, color='white')\n",
    "        ),\n",
    "        text=hover_text,\n",
    "        hoverinfo='text'\n",
    "    )\n",
    "])\n",
    "\n",
    "fig.update_layout(\n",
    "    title='2D Chroma Vector Store Visualization',\n",
    "    xaxis_title='x',\n",
    "    yaxis_title='y',\n",
    "    width=800,\n",
    "    height=600,\n",
    "    margin=dict(r=20, b=10, l=10, t=40)\n",
    ")\n",
    "\n",
    "fig.show()"
   ]
  },
  {
   "cell_type": "code",
   "execution_count": 49,
   "id": "f4205cdb",
   "metadata": {},
   "outputs": [],
   "source": [
    "from langchain.memory import ConversationBufferMemory\n",
    "from langchain.chains import ConversationalRetrievalChain"
   ]
  },
  {
   "cell_type": "code",
   "execution_count": 52,
   "id": "8e3bd56d",
   "metadata": {},
   "outputs": [],
   "source": [
    "llm = ChatGroq(\n",
    "    model_name=MODEL,\n",
    "    groq_api_key=os.getenv(\"GROQ_API_KEY\")\n",
    ")\n",
    "\n",
    "# Memory setup\n",
    "memory = ConversationBufferMemory(\n",
    "    memory_key='chat_history',\n",
    "    return_messages=True\n",
    ")\n",
    "\n",
    "# Retriever from Chroma\n",
    "retriever = vectorstore.as_retriever()\n",
    "\n",
    "# Conversation chain\n",
    "conversation_chain = ConversationalRetrievalChain.from_llm(\n",
    "    llm=llm,\n",
    "    retriever=retriever,\n",
    "    memory=memory\n",
    ")"
   ]
  },
  {
   "cell_type": "code",
   "execution_count": 55,
   "id": "fdda1c76",
   "metadata": {},
   "outputs": [
    {
     "name": "stdout",
     "output_type": "stream",
     "text": [
      "The Silver Stone Institute of Engineering (SSIE) offers the following academic programs:\n",
      "\n",
      "**Bachelor of Technology (4-year) degrees** in seven specializations:\n",
      "1. Computer Engineering\n",
      "2. Electronics & Telecommunications\n",
      "3. Mechanical Engineering\n",
      "4. Civil Engineering\n",
      "5. Artificial Intelligence\n",
      "6. Biotechnology\n",
      "7. Renewable Energy Systems\n",
      "\n",
      "**M.Tech programs (2-year)** in:\n",
      "1. Data Science\n",
      "2. Robotics\n",
      "3. Smart Infrastructure\n",
      "\n",
      "Each program includes industry-aligned coursework with mandatory internships through the **TechConnect** industry immersion initiative.\n"
     ]
    }
   ],
   "source": [
    "query = \"What are the programs provided by SSIE\"\n",
    "result = conversation_chain.invoke({\"question\": query})\n",
    "print(result[\"answer\"])"
   ]
  }
 ],
 "metadata": {
  "kernelspec": {
   "display_name": "venv",
   "language": "python",
   "name": "python3"
  },
  "language_info": {
   "codemirror_mode": {
    "name": "ipython",
    "version": 3
   },
   "file_extension": ".py",
   "mimetype": "text/x-python",
   "name": "python",
   "nbconvert_exporter": "python",
   "pygments_lexer": "ipython3",
   "version": "3.13.1"
  }
 },
 "nbformat": 4,
 "nbformat_minor": 5
}
