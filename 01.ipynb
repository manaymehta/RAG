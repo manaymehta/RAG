{
 "cells": [
  {
   "cell_type": "code",
   "execution_count": 1,
   "id": "b044ca25",
   "metadata": {},
   "outputs": [
    {
     "name": "stderr",
     "output_type": "stream",
     "text": [
      "d:\\.MANAY\\MANAY\\Code\\Projects\\RAG_workflow\\venv\\Lib\\site-packages\\tqdm\\auto.py:21: TqdmWarning: IProgress not found. Please update jupyter and ipywidgets. See https://ipywidgets.readthedocs.io/en/stable/user_install.html\n",
      "  from .autonotebook import tqdm as notebook_tqdm\n"
     ]
    }
   ],
   "source": [
    "# imports\n",
    "import os\n",
    "import glob\n",
    "from dotenv import load_dotenv\n",
    "import gradio as gr\n"
   ]
  },
  {
   "cell_type": "code",
   "execution_count": 2,
   "id": "02beb22f",
   "metadata": {},
   "outputs": [],
   "source": [
    "from langchain.document_loaders import DirectoryLoader, TextLoader\n",
    "from langchain.text_splitter import CharacterTextSplitter"
   ]
  },
  {
   "cell_type": "code",
   "execution_count": null,
   "id": "c15e2a96",
   "metadata": {},
   "outputs": [],
   "source": [
    "MODEL = \"gpt-4o-mini\"\n",
    "db_name = \"vector_db\""
   ]
  },
  {
   "cell_type": "code",
   "execution_count": null,
   "id": "70e44922",
   "metadata": {},
   "outputs": [],
   "source": [
    "load_dotenv()\n",
    "os.environ['OPENAI_API_KEY'] = os.getenv('OPENAI_API_KEY', 'your_key')"
   ]
  },
  {
   "cell_type": "code",
   "execution_count": 3,
   "id": "c81ff96d",
   "metadata": {},
   "outputs": [],
   "source": [
    "folders = glob.glob(\"knowledge-base/*\")\n",
    "\n",
    "documents = []\n",
    "for folder in folders:\n",
    "    doc_type = os.path.basename(folder)\n",
    "    loader = DirectoryLoader(folder,glob=\"**/*.md\",loader_cls=lambda path: TextLoader(path, encoding='utf-8'))\n",
    "    folder_docs = loader.load()\n",
    "    for doc in folder_docs:\n",
    "        doc.metadata['doc_type'] = doc_type\n",
    "        documents.append(doc)"
   ]
  },
  {
   "cell_type": "code",
   "execution_count": 15,
   "id": "f2aa8a62",
   "metadata": {},
   "outputs": [],
   "source": [
    "text_splitter = CharacterTextSplitter(\n",
    "    chunk_size=700,\n",
    "    chunk_overlap=120,\n",
    "    separator=\"\\n\\n\"\n",
    ")\n",
    "\n",
    "chunks = text_splitter.split_documents(documents)"
   ]
  },
  {
   "cell_type": "code",
   "execution_count": null,
   "id": "5bbb18e7",
   "metadata": {},
   "outputs": [
    {
     "data": {
      "text/plain": [
       "33"
      ]
     },
     "execution_count": 20,
     "metadata": {},
     "output_type": "execute_result"
    }
   ],
   "source": [
    "len(chunks)"
   ]
  },
  {
   "cell_type": "code",
   "execution_count": 23,
   "id": "a3597216",
   "metadata": {},
   "outputs": [
    {
     "name": "stdout",
     "output_type": "stream",
     "text": [
      "05_contact, 01_academics, 04_infrastructure, 03_student_life, 02_admissions, 00_institute_overview\n"
     ]
    }
   ],
   "source": [
    "doc_types = set(chunk.metadata['doc_type'] for chunk in chunks)\n",
    "print(', '.join(doc_types))"
   ]
  },
  {
   "cell_type": "code",
   "execution_count": 29,
   "id": "5ca926f7",
   "metadata": {},
   "outputs": [
    {
     "name": "stdout",
     "output_type": "stream",
     "text": [
      "page_content='// File: about_institute.md\n",
      "# About Silver Stone Institute of Engineering\n",
      "\n",
      "Established in 2007, Silver Stone Institute of Engineering (SSIE) stands as a premier technical institution in Pune, Maharashtra. Founded under the visionary leadership of Dr. Vikram Joshi, SSIE has grown from a modest campus to a 40-acre hub of innovation with NAAC 'A++' accreditation. Our motto \"ज्ञानम् परमम् बलम्\" (Knowledge is Supreme Strength) reflects our commitment to blending academic excellence with ethical values.' metadata={'source': 'knowledge-base\\\\00_institute_overview\\\\about_institute.md', 'doc_type': '00_institute_overview'}\n",
      "________\n",
      "page_content='# Distinguished Faculty Directory\n",
      "\n",
      "Silver Stone Institute of Engineering (SSIE) is proud of its accomplished and diverse faculty, each contributing to the institute's reputation for academic excellence and innovation. Our faculty members are not only renowned in their respective fields but also deeply committed to student mentorship, research, and societal impact. Below are profiles of some of our key academic leaders and educators.' metadata={'source': 'knowledge-base\\\\01_academics\\\\faculty_directory.md', 'doc_type': '01_academics'}\n",
      "________\n",
      "page_content='// File: scholarships.md\n",
      "# Financial Support Programs\n",
      "\n",
      "## Silver Merit Scholarship\n",
      "Awarded to top 10 MHT-CET rank holders: 100% tuition waiver + ₹10,000/month stipend. Renewable annually with CGPA > 8.5. \n",
      "\n",
      "## Udaan SC/ST Scholarship\n",
      "Covers full tuition, hostel fees, and ₹15,000/year book allowance. Requires annual community service at Zilla Parishad schools. \n",
      "\n",
      "Other schemes include TechSakhi for girls in AI (50% fee waiver), Sportstar Grants for national-level athletes, and Project Pragati for economically weaker students. Applications open every September via SIIVA Scholarship Hub. The institute disburses over ₹2.5 crore annually in financial aid.' metadata={'source': 'knowledge-base\\\\02_admissions\\\\scholarships.md', 'doc_type': '02_admissions'}\n",
      "________\n",
      "page_content='// File: contact_info.md\n",
      "# Institutional Contacts\n",
      "\n",
      "## Main Campus\n",
      "Silver Stone Institute of Engineering  \n",
      "NH-65, Kharadi Bypass Road  \n",
      "Pune, Maharashtra 411014  \n",
      "Phone: 020-27891874 \n",
      "\n",
      "## Key Personnel\n",
      "Director: Dr. Vikram Joshi (director@ssie.ac.in)  \n",
      "Registrar: Mrs. Indira Nair (registrar@ssie.ac.in)  \n",
      "Student Helpdesk: helpdesk@ssie.ac.in (24/7 chatbot)  \n",
      "\n",
      "## Transportation\n",
      "ShuttleShakti buses connect campus to Pune Station (Route S1), Hinjewadi IT Park (S3), and Shivajinagar (S7). Real-time tracking via SSIE Connect app. Campus is 12 km from Pune Airport with prepaid taxi services. Emergency contacts displayed across campus.' metadata={'source': 'knowledge-base\\\\05_contact\\\\contact_info.md', 'doc_type': '05_contact'}\n",
      "________\n"
     ]
    }
   ],
   "source": [
    "for chunk in chunks:\n",
    "    if 'Silver' in chunk.page_content:\n",
    "        print(chunk)\n",
    "        print(\"________\")"
   ]
  }
 ],
 "metadata": {
  "kernelspec": {
   "display_name": "venv",
   "language": "python",
   "name": "python3"
  },
  "language_info": {
   "codemirror_mode": {
    "name": "ipython",
    "version": 3
   },
   "file_extension": ".py",
   "mimetype": "text/x-python",
   "name": "python",
   "nbconvert_exporter": "python",
   "pygments_lexer": "ipython3",
   "version": "3.13.1"
  }
 },
 "nbformat": 4,
 "nbformat_minor": 5
}
