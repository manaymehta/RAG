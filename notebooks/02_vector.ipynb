{
 "cells": [
  {
   "cell_type": "code",
   "execution_count": 2,
   "id": "b044ca25",
   "metadata": {},
   "outputs": [
    {
     "name": "stderr",
     "output_type": "stream",
     "text": [
      "d:\\.MANAY\\MANAY\\Code\\Projects\\RAG_workflow\\venv\\Lib\\site-packages\\tqdm\\auto.py:21: TqdmWarning: IProgress not found. Please update jupyter and ipywidgets. See https://ipywidgets.readthedocs.io/en/stable/user_install.html\n",
      "  from .autonotebook import tqdm as notebook_tqdm\n"
     ]
    }
   ],
   "source": [
    "# imports\n",
    "import os\n",
    "import glob\n",
    "from dotenv import load_dotenv\n",
    "import gradio as gr\n"
   ]
  },
  {
   "cell_type": "code",
   "execution_count": null,
   "id": "02beb22f",
   "metadata": {},
   "outputs": [],
   "source": [
    "from langchain.document_loaders import DirectoryLoader, TextLoader\n",
    "from langchain.text_splitter import CharacterTextSplitter\n",
    "from langchain.schema import Document\n",
    "os.environ[\"CHROMA_TELEMETRY_ENABLED\"] = \"FALSE\"\n",
    "from langchain_chroma import Chroma\n",
    "import shutil\n",
    "import numpy as np\n",
    "import plotly.graph_objects as go\n",
    "from sklearn.manifold import TSNE\n",
    "from langchain_community.embeddings import HuggingFaceEmbeddings\n",
    "from langchain_groq import ChatGroq\n",
    "\n"
   ]
  },
  {
   "cell_type": "code",
   "execution_count": 4,
   "id": "c15e2a96",
   "metadata": {},
   "outputs": [],
   "source": [
    "MODEL = \"meta-llama/llama-4-scout-17b-16e-instruct\"\n",
    "db_name = \"vector_db\""
   ]
  },
  {
   "cell_type": "code",
   "execution_count": 5,
   "id": "70e44922",
   "metadata": {},
   "outputs": [
    {
     "name": "stderr",
     "output_type": "stream",
     "text": [
      "d:\\.MANAY\\MANAY\\Code\\Projects\\RAG_workflow\\venv\\Lib\\site-packages\\langchain_groq\\chat_models.py:370: UserWarning: WARNING! GROQ_API_KEY is not default parameter.\n",
      "                    GROQ_API_KEY was transferred to model_kwargs.\n",
      "                    Please confirm that GROQ_API_KEY is what you intended.\n",
      "  warnings.warn(\n"
     ]
    }
   ],
   "source": [
    "load_dotenv()\n",
    "llm = ChatGroq(\n",
    "    GROQ_API_KEY=os.getenv(\"GROQ_API_KEY\"),\n",
    "    model_name=\"meta-llama/llama-4-scout-17b-16e-instruct\"\n",
    ")"
   ]
  },
  {
   "cell_type": "code",
   "execution_count": 6,
   "id": "c81ff96d",
   "metadata": {},
   "outputs": [],
   "source": [
    "folders = glob.glob(\"knowledge-base/*\")\n",
    "\n",
    "documents = []\n",
    "for folder in folders:\n",
    "    doc_type = os.path.basename(folder)\n",
    "    loader = DirectoryLoader(folder,glob=\"**/*.md\",loader_cls=lambda path: TextLoader(path, encoding='utf-8'))\n",
    "    folder_docs = loader.load()\n",
    "    for doc in folder_docs:\n",
    "        doc.metadata['doc_type'] = doc_type\n",
    "        documents.append(doc)"
   ]
  },
  {
   "cell_type": "code",
   "execution_count": 7,
   "id": "f2aa8a62",
   "metadata": {},
   "outputs": [],
   "source": [
    "text_splitter = CharacterTextSplitter(\n",
    "    chunk_size=700,\n",
    "    chunk_overlap=120,\n",
    "    separator=\"\\n\\n\"\n",
    ")\n",
    "\n",
    "chunks = text_splitter.split_documents(documents)"
   ]
  },
  {
   "cell_type": "code",
   "execution_count": 8,
   "id": "5bbb18e7",
   "metadata": {},
   "outputs": [
    {
     "data": {
      "text/plain": [
       "33"
      ]
     },
     "execution_count": 8,
     "metadata": {},
     "output_type": "execute_result"
    }
   ],
   "source": [
    "len(chunks)"
   ]
  },
  {
   "cell_type": "code",
   "execution_count": 9,
   "id": "a3597216",
   "metadata": {},
   "outputs": [
    {
     "name": "stdout",
     "output_type": "stream",
     "text": [
      "05_contact, 04_infrastructure, 00_institute_overview, 01_academics, 02_admissions, 03_student_life\n"
     ]
    }
   ],
   "source": [
    "doc_types = set(chunk.metadata['doc_type'] for chunk in chunks)\n",
    "print(', '.join(doc_types))"
   ]
  },
  {
   "cell_type": "code",
   "execution_count": 10,
   "id": "5ca926f7",
   "metadata": {},
   "outputs": [
    {
     "name": "stderr",
     "output_type": "stream",
     "text": [
      "C:\\Users\\Nitro 5\\AppData\\Local\\Temp\\ipykernel_9828\\622220385.py:2: LangChainDeprecationWarning: The class `HuggingFaceEmbeddings` was deprecated in LangChain 0.2.2 and will be removed in 1.0. An updated version of the class exists in the :class:`~langchain-huggingface package and should be used instead. To use it run `pip install -U :class:`~langchain-huggingface` and import as `from :class:`~langchain_huggingface import HuggingFaceEmbeddings``.\n",
      "  embeddings = HuggingFaceEmbeddings(\n",
      "<All keys matched successfully>\n"
     ]
    }
   ],
   "source": [
    "#vector embedding model\n",
    "embeddings = HuggingFaceEmbeddings(\n",
    "    model_name=\"nomic-ai/nomic-embed-text-v1\",\n",
    "    model_kwargs={'trust_remote_code': True}\n",
    ")"
   ]
  },
  {
   "cell_type": "code",
   "execution_count": 15,
   "id": "cf0a15e0",
   "metadata": {},
   "outputs": [
    {
     "name": "stderr",
     "output_type": "stream",
     "text": [
      "Failed to send telemetry event ClientStartEvent: capture() takes 1 positional argument but 3 were given\n",
      "Failed to send telemetry event ClientCreateCollectionEvent: capture() takes 1 positional argument but 3 were given\n"
     ]
    }
   ],
   "source": [
    "# Create chroma vectorstore\n",
    "vectorstore = Chroma.from_documents(\n",
    "    documents=chunks,\n",
    "    embedding=embeddings,\n",
    "    persist_directory=db_name\n",
    ")"
   ]
  },
  {
   "cell_type": "code",
   "execution_count": 16,
   "id": "af57b381",
   "metadata": {},
   "outputs": [
    {
     "data": {
      "text/plain": [
       "99"
      ]
     },
     "execution_count": 16,
     "metadata": {},
     "output_type": "execute_result"
    }
   ],
   "source": [
    "vectorstore._collection.count()"
   ]
  },
  {
   "cell_type": "code",
   "execution_count": 17,
   "id": "b0c3b28d",
   "metadata": {},
   "outputs": [
    {
     "name": "stderr",
     "output_type": "stream",
     "text": [
      "Failed to send telemetry event CollectionGetEvent: capture() takes 1 positional argument but 3 were given\n"
     ]
    },
    {
     "name": "stdout",
     "output_type": "stream",
     "text": [
      "768\n"
     ]
    }
   ],
   "source": [
    "#dimensions of a vector in vectorstore vector_db\n",
    "collection = vectorstore._collection\n",
    "sample_embedding = collection.get(limit=1, include=['embeddings'])['embeddings'][0]\n",
    "dimensions = len(sample_embedding)\n",
    "print(dimensions)"
   ]
  },
  {
   "cell_type": "code",
   "execution_count": 18,
   "id": "dc3aaf10",
   "metadata": {},
   "outputs": [
    {
     "name": "stderr",
     "output_type": "stream",
     "text": [
      "Failed to send telemetry event CollectionGetEvent: capture() takes 1 positional argument but 3 were given\n"
     ]
    }
   ],
   "source": [
    "result = collection.get(include=['embeddings', 'documents', 'metadatas'])\n",
    "vectors = np.array(result['embeddings'])\n",
    "documents = result['documents']\n",
    "doc_types = [metadata['doc_type'] for metadata in result['metadatas']]\n",
    "colors = [['blue', 'green', 'red', 'orange', 'yellow', 'pink'][['00_institute_overview', '01_academics', '02_admissions', '03_student_life', '04_infrastructure', '05_contact'].index(t)] for t in doc_types]\n",
    "\n",
    "tsne = TSNE(n_components=3, random_state=42)\n",
    "reduced_vectors = tsne.fit_transform(vectors)"
   ]
  },
  {
   "cell_type": "code",
   "execution_count": 19,
   "id": "97c0010a",
   "metadata": {},
   "outputs": [
    {
     "data": {
      "application/vnd.plotly.v1+json": {
       "config": {
        "plotlyServerURL": "https://plot.ly"
       },
       "data": [
        {
         "hoverinfo": "text",
         "marker": {
          "color": [
           "blue",
           "blue",
           "blue",
           "blue",
           "blue",
           "blue",
           "green",
           "green",
           "green",
           "green",
           "green",
           "green",
           "green",
           "green",
           "green",
           "green",
           "green",
           "green",
           "green",
           "green",
           "red",
           "red",
           "red",
           "orange",
           "orange",
           "orange",
           "orange",
           "orange",
           "orange",
           "yellow",
           "yellow",
           "yellow",
           "pink",
           "blue",
           "blue",
           "blue",
           "blue",
           "blue",
           "blue",
           "green",
           "green",
           "green",
           "green",
           "green",
           "green",
           "green",
           "green",
           "green",
           "green",
           "green",
           "green",
           "green",
           "green",
           "red",
           "red",
           "red",
           "orange",
           "orange",
           "orange",
           "orange",
           "orange",
           "orange",
           "yellow",
           "yellow",
           "yellow",
           "pink",
           "blue",
           "blue",
           "blue",
           "blue",
           "blue",
           "blue",
           "green",
           "green",
           "green",
           "green",
           "green",
           "green",
           "green",
           "green",
           "green",
           "green",
           "green",
           "green",
           "green",
           "green",
           "red",
           "red",
           "red",
           "orange",
           "orange",
           "orange",
           "orange",
           "orange",
           "orange",
           "yellow",
           "yellow",
           "yellow",
           "pink"
          ],
          "line": {
           "color": "white",
           "width": 0.5
          },
          "opacity": 0.8,
          "size": 6
         },
         "mode": "markers",
         "text": [
          "Type: 00_institute_overview<br>Text: // File: about_institute.md\n# About Silver Stone Institute of Engineering\n\nEstablished in 2007, Silv...",
          "Type: 00_institute_overview<br>Text: The institute boasts state-of-the-art infrastructure including the Aryabhata Innovation Centre and C...",
          "Type: 00_institute_overview<br>Text: With over 12,000 alumni shaping sectors from aerospace to sustainable energy, SSIE continues to pion...",
          "Type: 00_institute_overview<br>Text: # Academic Programs Offered\n\nSSIE provides four-year **Bachelor of Technology** degrees across seven...",
          "Type: 00_institute_overview<br>Text: Additionally, we offer two-year **M.Tech programs** in:  \n- Data Science  \n- Robotics  \n- Smart Infr...",
          "Type: 00_institute_overview<br>Text: The curriculum undergoes biannual review by our **Industry Advisory Board** chaired by **Dr. Nandini...",
          "Type: 01_academics<br>Text: // File: courses.md\n# Core Course Offerings\n\n## Foundational Courses\nAll first-year students underta...",
          "Type: 01_academics<br>Text: Signature courses like Embedded Systems for Indian Conditions emphasize ruggedized design for rural ...",
          "Type: 01_academics<br>Text: // File: departments.md\n# Academic Departments\n\n## Department of Computer Engineering\nHeaded by Dr. ...",
          "Type: 01_academics<br>Text: Other departments include Mechanical Engineering (Dr. Arjun Mehta), Electronics (Prof. Sneha Kulkarn...",
          "Type: 01_academics<br>Text: // File: exam_rules.md\n# Examination Regulations\n\nAll end-semester exams follow FairAssess protocols...",
          "Type: 01_academics<br>Text: Answer scripts are digitized for seven-year archival. Students access evaluated papers through Exam ...",
          "Type: 01_academics<br>Text: # Distinguished Faculty Directory\n\nSilver Stone Institute of Engineering (SSIE) is proud of its acco...",
          "Type: 01_academics<br>Text: **Dr. Kavita Mehra** serves as Dean (Academics) and Professor of Electronics, with over 22 years of ...",
          "Type: 01_academics<br>Text: **Prof. Rohan Iyer**, Head of the Artificial Intelligence Department, previously worked at DRDO wher...",
          "Type: 01_academics<br>Text: **Prof. Meera Krishnan**, Head of Biotechnology, is recognized for her research in plant genomics an...",
          "Type: 01_academics<br>Text: Other esteemed faculty include **Dr. Priya Rajan** (Biotechnology), **Prof. Sneha Kulkarni** (Electr...",
          "Type: 01_academics<br>Text: All faculty members maintain open-door policies for academic guidance and personal mentorship. Their...",
          "Type: 01_academics<br>Text: // File: grading_policy.md\n# Academic Evaluation System\n\nSSIE follows a 10-point grading scale where...",
          "Type: 01_academics<br>Text: The Transparent Evaluation Portal allows revaluation requests within seven days of results. Faculty ...",
          "Type: 02_admissions<br>Text: // File: admission_process.md\n# Undergraduate Admissions\n\nSSIE admits students through MHT-CET score...",
          "Type: 02_admissions<br>Text: Admissions conclude by July 15 with orientation commencing August 1. The institute reserves 5% super...",
          "Type: 02_admissions<br>Text: // File: scholarships.md\n# Financial Support Programs\n\n## Silver Merit Scholarship\nAwarded to top 10...",
          "Type: 03_student_life<br>Text: // File: clubs_and_societies.md\n# Student Organizations\n\n## CodeRaga Club\nIndia's largest student-ru...",
          "Type: 03_student_life<br>Text: Other groups include EcoWarriors (environmental audits), Matribhasha Collective (vernacular tech doc...",
          "Type: 03_student_life<br>Text: // File: cultural_fests.md\n# Annual Events\n\n## Aarohan Fest\nSSIE's flagship cultural festival every ...",
          "Type: 03_student_life<br>Text: Kala Kumbh arts festival every August showcases traditional crafts, funding tribal schools. All even...",
          "Type: 03_student_life<br>Text: // File: hostel_rules.md\n# Residential Guidelines\n\n## Shantivan Hostel (Men) & Prakriti Hostel (Wome...",
          "Type: 03_student_life<br>Text: Guests may visit Sundays 10AM-5PM after biometric registration. Hostel admission requires medical fi...",
          "Type: 04_infrastructure<br>Text: // File: campus_facilities.md\n# Infrastructure\n\n## Academic Facilities\nVigyan Bhavan central library...",
          "Type: 04_infrastructure<br>Text: Solar panels meet 70% energy needs. Rainwater harvesting sustains 25-acre greenery. Zero Waste initi...",
          "Type: 04_infrastructure<br>Text: // File: placement_cell.md\n# Career Development\n\nLed by Mr. Ajay Bannerjee, the placement cell maint...",
          "Type: 05_contact<br>Text: // File: contact_info.md\n# Institutional Contacts\n\n## Main Campus\nSilver Stone Institute of Engineer..."
         ],
         "type": "scatter3d",
         "x": {
          "bdata": "dyV5Qao9oULGmqxChIKCQtKWOUEM763BgDa0wZGG1UDOa5VBsG7HQgKBE0J/aInCEQv2woNFJcLbez/CBBZ4wjV/wMJOctlC8ZBrwhkcAsIhMIG/PNvEQeRJZcJqSYlCBoRCwq1nycEPiJRCCMUCQb6y7cLblBdCklwXQuMlg8KGrDhCdyV5Qao9oULgRLFChIKCQonW70EM763BgDa0wZGG1UDOa5VBsG7HQgKBE0LQGNjCkAVEQoNFJcLbez/CBBZ4wjV/wMIf2LbC8ZBrwhz+C8K2mLPBPNvEQeRJZcJqSYlC/uKcwq1nycHazDHACMUCQeJP80LblBdCAteEwOMlg8KGrDhCdyV5Qao9oULgRLFChIKCQonW70EM763BgDa0wZGG1UDOa5VBsG7HQgKBE0LQGNjCkAVEQoNFJcLbez/CBBZ4wjV/wMIf2LbC8ZBrwhz+C8K2mLPBPNvEQeRJZcJqSYlC/uKcwtV57MBcmrdCCMUCQeJP80LblBdCAteEwOMlg8KGrDhC",
          "dtype": "f4"
         },
         "y": {
          "bdata": "9R85Qk6SEkIVEbpClHSOQeNuXMKbYDRCJK6Hws1UB8ASgMpC8uCxQWpep0JQPQjDc5nqwZzPRL7qq3/Cp17LQnKHNcG04aHCBbg4QmymRkIh+LFCaQPLwmpVicGEnSjC1Dy4wVUWy8LCiX3COJdDwnXuXEHkcGDCvCcWQvjsbkKod38/9R85Qk6SEkLxJoNClHSOQRY5z8GbYDRCJK6Hws1UB8ASgMpC8uCxQWpep0Lj5R9Cma/XwpzPRL7qq3/Cp17LQnKHNcGGYprCBbg4Qigv3kJMdWrAaQPLwmpVicGEnSjCMsgIwlUWy8KkNwPDOJdDwllO18DkcGDCqZjgQfjsbkKod38/9R85Qk6SEkLxJoNClHSOQRY5z8GbYDRCJK6Hws1UB8ASgMpC8uCxQWpep0Lj5R9Cma/XwpzPRL7qq3/Cp17LQnKHNcGGYprCBbg4Qigv3kJMdWrAaQPLwmpVicGEnSjCMsgIws6G0kKyf0bCOJdDwllO18DkcGDCqZjgQfjsbkKod38/",
          "dtype": "f4"
         },
         "z": {
          "bdata": "lhGGwqdLpsLFPttAQv3FQvB86cK85jhAYChwQl+3SkJcMHLBLHoVQsbebEKRImHAJXxCQQ33zcIM7ojCEyQPwRUzXMJ/SqrAkn6AQjLnCMNY5tFCAddgwj8AikGme/1BhDnXQqe6ccDtkjrCED2awLtdgELCtr1CmlLJQXDKgcK/XNvBlhGGwqdLpsJvEaLBQv3FQu7ZxsK85jhAYChwQl+3SkJcMHLBLHoVQsbebEI6cy9A9mKcQQ33zcIM7ojCEyQPwRUzXMLO0xvAkn6AQv3iWUKHTRjCAddgwj8AikGme/1BXLOrQqe6ccAIoEBCED2awFdkzsHCtr1CZpHXQnDKgcK/XNvBlhGGwqdLpsJvEaLBQv3FQu7ZxsK85jhAYChwQl+3SkJcMHLBLHoVQsbebEI6cy9A9mKcQQ33zcIM7ojCEyQPwRUzXMLO0xvAkn6AQv3iWUKHTRjCAddgwj8AikGme/1BXLOrQuSrncKDIprCED2awFdkzsHCtr1CZpHXQnDKgcK/XNvB",
          "dtype": "f4"
         }
        }
       ],
       "layout": {
        "height": 600,
        "margin": {
         "b": 10,
         "l": 10,
         "r": 20,
         "t": 40
        },
        "template": {
         "data": {
          "bar": [
           {
            "error_x": {
             "color": "#2a3f5f"
            },
            "error_y": {
             "color": "#2a3f5f"
            },
            "marker": {
             "line": {
              "color": "#E5ECF6",
              "width": 0.5
             },
             "pattern": {
              "fillmode": "overlay",
              "size": 10,
              "solidity": 0.2
             }
            },
            "type": "bar"
           }
          ],
          "barpolar": [
           {
            "marker": {
             "line": {
              "color": "#E5ECF6",
              "width": 0.5
             },
             "pattern": {
              "fillmode": "overlay",
              "size": 10,
              "solidity": 0.2
             }
            },
            "type": "barpolar"
           }
          ],
          "carpet": [
           {
            "aaxis": {
             "endlinecolor": "#2a3f5f",
             "gridcolor": "white",
             "linecolor": "white",
             "minorgridcolor": "white",
             "startlinecolor": "#2a3f5f"
            },
            "baxis": {
             "endlinecolor": "#2a3f5f",
             "gridcolor": "white",
             "linecolor": "white",
             "minorgridcolor": "white",
             "startlinecolor": "#2a3f5f"
            },
            "type": "carpet"
           }
          ],
          "choropleth": [
           {
            "colorbar": {
             "outlinewidth": 0,
             "ticks": ""
            },
            "type": "choropleth"
           }
          ],
          "contour": [
           {
            "colorbar": {
             "outlinewidth": 0,
             "ticks": ""
            },
            "colorscale": [
             [
              0,
              "#0d0887"
             ],
             [
              0.1111111111111111,
              "#46039f"
             ],
             [
              0.2222222222222222,
              "#7201a8"
             ],
             [
              0.3333333333333333,
              "#9c179e"
             ],
             [
              0.4444444444444444,
              "#bd3786"
             ],
             [
              0.5555555555555556,
              "#d8576b"
             ],
             [
              0.6666666666666666,
              "#ed7953"
             ],
             [
              0.7777777777777778,
              "#fb9f3a"
             ],
             [
              0.8888888888888888,
              "#fdca26"
             ],
             [
              1,
              "#f0f921"
             ]
            ],
            "type": "contour"
           }
          ],
          "contourcarpet": [
           {
            "colorbar": {
             "outlinewidth": 0,
             "ticks": ""
            },
            "type": "contourcarpet"
           }
          ],
          "heatmap": [
           {
            "colorbar": {
             "outlinewidth": 0,
             "ticks": ""
            },
            "colorscale": [
             [
              0,
              "#0d0887"
             ],
             [
              0.1111111111111111,
              "#46039f"
             ],
             [
              0.2222222222222222,
              "#7201a8"
             ],
             [
              0.3333333333333333,
              "#9c179e"
             ],
             [
              0.4444444444444444,
              "#bd3786"
             ],
             [
              0.5555555555555556,
              "#d8576b"
             ],
             [
              0.6666666666666666,
              "#ed7953"
             ],
             [
              0.7777777777777778,
              "#fb9f3a"
             ],
             [
              0.8888888888888888,
              "#fdca26"
             ],
             [
              1,
              "#f0f921"
             ]
            ],
            "type": "heatmap"
           }
          ],
          "histogram": [
           {
            "marker": {
             "pattern": {
              "fillmode": "overlay",
              "size": 10,
              "solidity": 0.2
             }
            },
            "type": "histogram"
           }
          ],
          "histogram2d": [
           {
            "colorbar": {
             "outlinewidth": 0,
             "ticks": ""
            },
            "colorscale": [
             [
              0,
              "#0d0887"
             ],
             [
              0.1111111111111111,
              "#46039f"
             ],
             [
              0.2222222222222222,
              "#7201a8"
             ],
             [
              0.3333333333333333,
              "#9c179e"
             ],
             [
              0.4444444444444444,
              "#bd3786"
             ],
             [
              0.5555555555555556,
              "#d8576b"
             ],
             [
              0.6666666666666666,
              "#ed7953"
             ],
             [
              0.7777777777777778,
              "#fb9f3a"
             ],
             [
              0.8888888888888888,
              "#fdca26"
             ],
             [
              1,
              "#f0f921"
             ]
            ],
            "type": "histogram2d"
           }
          ],
          "histogram2dcontour": [
           {
            "colorbar": {
             "outlinewidth": 0,
             "ticks": ""
            },
            "colorscale": [
             [
              0,
              "#0d0887"
             ],
             [
              0.1111111111111111,
              "#46039f"
             ],
             [
              0.2222222222222222,
              "#7201a8"
             ],
             [
              0.3333333333333333,
              "#9c179e"
             ],
             [
              0.4444444444444444,
              "#bd3786"
             ],
             [
              0.5555555555555556,
              "#d8576b"
             ],
             [
              0.6666666666666666,
              "#ed7953"
             ],
             [
              0.7777777777777778,
              "#fb9f3a"
             ],
             [
              0.8888888888888888,
              "#fdca26"
             ],
             [
              1,
              "#f0f921"
             ]
            ],
            "type": "histogram2dcontour"
           }
          ],
          "mesh3d": [
           {
            "colorbar": {
             "outlinewidth": 0,
             "ticks": ""
            },
            "type": "mesh3d"
           }
          ],
          "parcoords": [
           {
            "line": {
             "colorbar": {
              "outlinewidth": 0,
              "ticks": ""
             }
            },
            "type": "parcoords"
           }
          ],
          "pie": [
           {
            "automargin": true,
            "type": "pie"
           }
          ],
          "scatter": [
           {
            "fillpattern": {
             "fillmode": "overlay",
             "size": 10,
             "solidity": 0.2
            },
            "type": "scatter"
           }
          ],
          "scatter3d": [
           {
            "line": {
             "colorbar": {
              "outlinewidth": 0,
              "ticks": ""
             }
            },
            "marker": {
             "colorbar": {
              "outlinewidth": 0,
              "ticks": ""
             }
            },
            "type": "scatter3d"
           }
          ],
          "scattercarpet": [
           {
            "marker": {
             "colorbar": {
              "outlinewidth": 0,
              "ticks": ""
             }
            },
            "type": "scattercarpet"
           }
          ],
          "scattergeo": [
           {
            "marker": {
             "colorbar": {
              "outlinewidth": 0,
              "ticks": ""
             }
            },
            "type": "scattergeo"
           }
          ],
          "scattergl": [
           {
            "marker": {
             "colorbar": {
              "outlinewidth": 0,
              "ticks": ""
             }
            },
            "type": "scattergl"
           }
          ],
          "scattermap": [
           {
            "marker": {
             "colorbar": {
              "outlinewidth": 0,
              "ticks": ""
             }
            },
            "type": "scattermap"
           }
          ],
          "scattermapbox": [
           {
            "marker": {
             "colorbar": {
              "outlinewidth": 0,
              "ticks": ""
             }
            },
            "type": "scattermapbox"
           }
          ],
          "scatterpolar": [
           {
            "marker": {
             "colorbar": {
              "outlinewidth": 0,
              "ticks": ""
             }
            },
            "type": "scatterpolar"
           }
          ],
          "scatterpolargl": [
           {
            "marker": {
             "colorbar": {
              "outlinewidth": 0,
              "ticks": ""
             }
            },
            "type": "scatterpolargl"
           }
          ],
          "scatterternary": [
           {
            "marker": {
             "colorbar": {
              "outlinewidth": 0,
              "ticks": ""
             }
            },
            "type": "scatterternary"
           }
          ],
          "surface": [
           {
            "colorbar": {
             "outlinewidth": 0,
             "ticks": ""
            },
            "colorscale": [
             [
              0,
              "#0d0887"
             ],
             [
              0.1111111111111111,
              "#46039f"
             ],
             [
              0.2222222222222222,
              "#7201a8"
             ],
             [
              0.3333333333333333,
              "#9c179e"
             ],
             [
              0.4444444444444444,
              "#bd3786"
             ],
             [
              0.5555555555555556,
              "#d8576b"
             ],
             [
              0.6666666666666666,
              "#ed7953"
             ],
             [
              0.7777777777777778,
              "#fb9f3a"
             ],
             [
              0.8888888888888888,
              "#fdca26"
             ],
             [
              1,
              "#f0f921"
             ]
            ],
            "type": "surface"
           }
          ],
          "table": [
           {
            "cells": {
             "fill": {
              "color": "#EBF0F8"
             },
             "line": {
              "color": "white"
             }
            },
            "header": {
             "fill": {
              "color": "#C8D4E3"
             },
             "line": {
              "color": "white"
             }
            },
            "type": "table"
           }
          ]
         },
         "layout": {
          "annotationdefaults": {
           "arrowcolor": "#2a3f5f",
           "arrowhead": 0,
           "arrowwidth": 1
          },
          "autotypenumbers": "strict",
          "coloraxis": {
           "colorbar": {
            "outlinewidth": 0,
            "ticks": ""
           }
          },
          "colorscale": {
           "diverging": [
            [
             0,
             "#8e0152"
            ],
            [
             0.1,
             "#c51b7d"
            ],
            [
             0.2,
             "#de77ae"
            ],
            [
             0.3,
             "#f1b6da"
            ],
            [
             0.4,
             "#fde0ef"
            ],
            [
             0.5,
             "#f7f7f7"
            ],
            [
             0.6,
             "#e6f5d0"
            ],
            [
             0.7,
             "#b8e186"
            ],
            [
             0.8,
             "#7fbc41"
            ],
            [
             0.9,
             "#4d9221"
            ],
            [
             1,
             "#276419"
            ]
           ],
           "sequential": [
            [
             0,
             "#0d0887"
            ],
            [
             0.1111111111111111,
             "#46039f"
            ],
            [
             0.2222222222222222,
             "#7201a8"
            ],
            [
             0.3333333333333333,
             "#9c179e"
            ],
            [
             0.4444444444444444,
             "#bd3786"
            ],
            [
             0.5555555555555556,
             "#d8576b"
            ],
            [
             0.6666666666666666,
             "#ed7953"
            ],
            [
             0.7777777777777778,
             "#fb9f3a"
            ],
            [
             0.8888888888888888,
             "#fdca26"
            ],
            [
             1,
             "#f0f921"
            ]
           ],
           "sequentialminus": [
            [
             0,
             "#0d0887"
            ],
            [
             0.1111111111111111,
             "#46039f"
            ],
            [
             0.2222222222222222,
             "#7201a8"
            ],
            [
             0.3333333333333333,
             "#9c179e"
            ],
            [
             0.4444444444444444,
             "#bd3786"
            ],
            [
             0.5555555555555556,
             "#d8576b"
            ],
            [
             0.6666666666666666,
             "#ed7953"
            ],
            [
             0.7777777777777778,
             "#fb9f3a"
            ],
            [
             0.8888888888888888,
             "#fdca26"
            ],
            [
             1,
             "#f0f921"
            ]
           ]
          },
          "colorway": [
           "#636efa",
           "#EF553B",
           "#00cc96",
           "#ab63fa",
           "#FFA15A",
           "#19d3f3",
           "#FF6692",
           "#B6E880",
           "#FF97FF",
           "#FECB52"
          ],
          "font": {
           "color": "#2a3f5f"
          },
          "geo": {
           "bgcolor": "white",
           "lakecolor": "white",
           "landcolor": "#E5ECF6",
           "showlakes": true,
           "showland": true,
           "subunitcolor": "white"
          },
          "hoverlabel": {
           "align": "left"
          },
          "hovermode": "closest",
          "mapbox": {
           "style": "light"
          },
          "paper_bgcolor": "white",
          "plot_bgcolor": "#E5ECF6",
          "polar": {
           "angularaxis": {
            "gridcolor": "white",
            "linecolor": "white",
            "ticks": ""
           },
           "bgcolor": "#E5ECF6",
           "radialaxis": {
            "gridcolor": "white",
            "linecolor": "white",
            "ticks": ""
           }
          },
          "scene": {
           "xaxis": {
            "backgroundcolor": "#E5ECF6",
            "gridcolor": "white",
            "gridwidth": 2,
            "linecolor": "white",
            "showbackground": true,
            "ticks": "",
            "zerolinecolor": "white"
           },
           "yaxis": {
            "backgroundcolor": "#E5ECF6",
            "gridcolor": "white",
            "gridwidth": 2,
            "linecolor": "white",
            "showbackground": true,
            "ticks": "",
            "zerolinecolor": "white"
           },
           "zaxis": {
            "backgroundcolor": "#E5ECF6",
            "gridcolor": "white",
            "gridwidth": 2,
            "linecolor": "white",
            "showbackground": true,
            "ticks": "",
            "zerolinecolor": "white"
           }
          },
          "shapedefaults": {
           "line": {
            "color": "#2a3f5f"
           }
          },
          "ternary": {
           "aaxis": {
            "gridcolor": "white",
            "linecolor": "white",
            "ticks": ""
           },
           "baxis": {
            "gridcolor": "white",
            "linecolor": "white",
            "ticks": ""
           },
           "bgcolor": "#E5ECF6",
           "caxis": {
            "gridcolor": "white",
            "linecolor": "white",
            "ticks": ""
           }
          },
          "title": {
           "x": 0.05
          },
          "xaxis": {
           "automargin": true,
           "gridcolor": "white",
           "linecolor": "white",
           "ticks": "",
           "title": {
            "standoff": 15
           },
           "zerolinecolor": "white",
           "zerolinewidth": 2
          },
          "yaxis": {
           "automargin": true,
           "gridcolor": "white",
           "linecolor": "white",
           "ticks": "",
           "title": {
            "standoff": 15
           },
           "zerolinecolor": "white",
           "zerolinewidth": 2
          }
         }
        },
        "title": {
         "text": "2D Chroma Vector Store Visualization"
        },
        "width": 800,
        "xaxis": {
         "title": {
          "text": "x"
         }
        },
        "yaxis": {
         "title": {
          "text": "y"
         }
        }
       }
      }
     },
     "metadata": {},
     "output_type": "display_data"
    }
   ],
   "source": [
    "hover_text = [\n",
    "    f\"Type: {doc.metadata['doc_type']}<br>Text: {doc.page_content[:100]}...\"\n",
    "    for doc in chunks\n",
    "]\n",
    "doc_types = [doc.metadata['doc_type'] for doc in chunks]\n",
    "\n",
    "# Create 2D scatter plot\n",
    "fig = go.Figure(data=[\n",
    "    go.Scatter3d(\n",
    "        x=reduced_vectors[:, 0],\n",
    "        y=reduced_vectors[:, 1],\n",
    "        z=reduced_vectors[:, 2],\n",
    "        mode='markers',\n",
    "        marker=dict(\n",
    "            size=6,\n",
    "            color=colors,  # color should match number of docs\n",
    "            opacity=0.8,\n",
    "            line=dict(width=0.5, color='white')\n",
    "        ),\n",
    "        text=hover_text,\n",
    "        hoverinfo='text'\n",
    "    )\n",
    "])\n",
    "\n",
    "fig.update_layout(\n",
    "    title='2D Chroma Vector Store Visualization',\n",
    "    xaxis_title='x',\n",
    "    yaxis_title='y',\n",
    "    width=800,\n",
    "    height=600,\n",
    "    margin=dict(r=20, b=10, l=10, t=40)\n",
    ")\n",
    "\n",
    "fig.show()"
   ]
  },
  {
   "cell_type": "code",
   "execution_count": 20,
   "id": "f4205cdb",
   "metadata": {},
   "outputs": [],
   "source": [
    "from langchain.memory import ConversationBufferMemory\n",
    "from langchain.chains import ConversationalRetrievalChain"
   ]
  },
  {
   "cell_type": "code",
   "execution_count": null,
   "id": "8e3bd56d",
   "metadata": {},
   "outputs": [
    {
     "name": "stderr",
     "output_type": "stream",
     "text": [
      "C:\\Users\\Nitro 5\\AppData\\Local\\Temp\\ipykernel_9828\\3762887249.py:7: LangChainDeprecationWarning:\n",
      "\n",
      "Please see the migration guide at: https://python.langchain.com/docs/versions/migrating_memory/\n",
      "\n"
     ]
    }
   ],
   "source": [
    "llm = ChatGroq(\n",
    "    model_name=MODEL,\n",
    "    groq_api_key=os.getenv(\"GROQ_API_KEY\")\n",
    ")\n",
    "\n",
    "# Memory setup\n",
    "memory = ConversationBufferMemory(\n",
    "    memory_key='chat_history',\n",
    "    return_messages=True\n",
    ")\n",
    "\n",
    "# Retriever from Chroma\n",
    "# retriever = vectorstore.as_retriever(search_kwargs={\"k\":10}) # no: of input chunks\n",
    "retriever = vectorstore.as_retriever()\n",
    "\n",
    "# Conversation chain\n",
    "conversation_chain = ConversationalRetrievalChain.from_llm(\n",
    "    llm=llm,\n",
    "    retriever=retriever,\n",
    "    memory=memory\n",
    ")"
   ]
  },
  {
   "cell_type": "code",
   "execution_count": 22,
   "id": "fdda1c76",
   "metadata": {},
   "outputs": [
    {
     "name": "stderr",
     "output_type": "stream",
     "text": [
      "Failed to send telemetry event CollectionQueryEvent: capture() takes 1 positional argument but 3 were given\n"
     ]
    },
    {
     "name": "stdout",
     "output_type": "stream",
     "text": [
      "Yes, a student can choose Artificial Intelligence (AI) as a degree. According to the provided information, SSIE offers a four-year **Bachelor of Technology** degree in Artificial Intelligence as one of its seven specializations.\n"
     ]
    }
   ],
   "source": [
    "query = \"Can a student choose AI as a degree\"\n",
    "result = conversation_chain.invoke({\"question\": query})\n",
    "print(result[\"answer\"])"
   ]
  },
  {
   "cell_type": "code",
   "execution_count": 23,
   "id": "997a44b1",
   "metadata": {},
   "outputs": [],
   "source": [
    "def chat(message, history):\n",
    "    result = conversation_chain.invoke({'question': message})\n",
    "    return result['answer']"
   ]
  },
  {
   "cell_type": "code",
   "execution_count": 24,
   "id": "d4f88d10",
   "metadata": {},
   "outputs": [
    {
     "name": "stderr",
     "output_type": "stream",
     "text": [
      "d:\\.MANAY\\MANAY\\Code\\Projects\\RAG_workflow\\venv\\Lib\\site-packages\\gradio\\chat_interface.py:339: UserWarning:\n",
      "\n",
      "The 'tuples' format for chatbot messages is deprecated and will be removed in a future version of Gradio. Please set type='messages' instead, which uses openai-style 'role' and 'content' keys.\n",
      "\n"
     ]
    },
    {
     "name": "stdout",
     "output_type": "stream",
     "text": [
      "* Running on local URL:  http://127.0.0.1:7860\n",
      "* To create a public link, set `share=True` in `launch()`.\n"
     ]
    },
    {
     "data": {
      "text/html": [
       "<div><iframe src=\"http://127.0.0.1:7860/\" width=\"100%\" height=\"500\" allow=\"autoplay; camera; microphone; clipboard-read; clipboard-write;\" frameborder=\"0\" allowfullscreen></iframe></div>"
      ],
      "text/plain": [
       "<IPython.core.display.HTML object>"
      ]
     },
     "metadata": {},
     "output_type": "display_data"
    }
   ],
   "source": [
    "view = gr.ChatInterface(chat).launch()"
   ]
  },
  {
   "cell_type": "code",
   "execution_count": null,
   "id": "f8e101d5",
   "metadata": {},
   "outputs": [
    {
     "name": "stdout",
     "output_type": "stream",
     "text": [
      "\n",
      "\n",
      "\u001b[1m> Entering new ConversationalRetrievalChain chain...\u001b[0m\n",
      "\n",
      "\n",
      "\u001b[1m> Entering new StuffDocumentsChain chain...\u001b[0m\n",
      "\n",
      "\n",
      "\u001b[1m> Entering new LLMChain chain...\u001b[0m\n",
      "Prompt after formatting:\n",
      "\u001b[32;1m\u001b[1;3mSystem: Use the following pieces of context to answer the user's question. \n",
      "If you don't know the answer, just say that you don't know, don't try to make up an answer.\n",
      "----------------\n",
      "// File: campus_facilities.md\n",
      "# Infrastructure\n",
      "\n",
      "## Academic Facilities\n",
      "Vigyan Bhavan central library houses 85,000+ volumes with IEEE access. Agastya supercomputing lab features 20 PFLOPS capacity while Takshashila innovation complex offers 3D printing and IoT sandbox. \n",
      "\n",
      "## Wellness & Recreation\n",
      "Arogya medical center provides telemedicine facilities. The campus features Olympic-size swimming pool, cricket academy, and Rasayan food court serving regional cuisines. Dedicated meditation gardens and Vipassana cells support mental wellness.\n",
      "\n",
      "// File: campus_facilities.md\n",
      "# Infrastructure\n",
      "\n",
      "## Academic Facilities\n",
      "Vigyan Bhavan central library houses 85,000+ volumes with IEEE access. Agastya supercomputing lab features 20 PFLOPS capacity while Takshashila innovation complex offers 3D printing and IoT sandbox. \n",
      "\n",
      "## Wellness & Recreation\n",
      "Arogya medical center provides telemedicine facilities. The campus features Olympic-size swimming pool, cricket academy, and Rasayan food court serving regional cuisines. Dedicated meditation gardens and Vipassana cells support mental wellness.\n",
      "\n",
      "// File: campus_facilities.md\n",
      "# Infrastructure\n",
      "\n",
      "## Academic Facilities\n",
      "Vigyan Bhavan central library houses 85,000+ volumes with IEEE access. Agastya supercomputing lab features 20 PFLOPS capacity while Takshashila innovation complex offers 3D printing and IoT sandbox. \n",
      "\n",
      "## Wellness & Recreation\n",
      "Arogya medical center provides telemedicine facilities. The campus features Olympic-size swimming pool, cricket academy, and Rasayan food court serving regional cuisines. Dedicated meditation gardens and Vipassana cells support mental wellness.\n",
      "\n",
      "// File: departments.md\n",
      "# Academic Departments\n",
      "\n",
      "## Department of Computer Engineering\n",
      "Headed by Dr. Rajeev Iyer, this department features 22 faculty members specializing in quantum computing and NLP. The Project Genesis lab develops AI solutions for agricultural challenges with Ministry of Electronics grants. \n",
      "\n",
      "## Department of Sustainable Technologies\n",
      "Led by Dr. Ananya Reddy, this interdisciplinary department focuses on climate-resilient infrastructure. Their GreenTech Hub collaborates with Pune Municipal Corporation on urban sustainability projects.\n",
      "Human: what is the library's name\u001b[0m\n",
      "\n",
      "\u001b[1m> Finished chain.\u001b[0m\n",
      "\n",
      "\u001b[1m> Finished chain.\u001b[0m\n",
      "\n",
      "\u001b[1m> Finished chain.\u001b[0m\n",
      "The library's name is Vigyan Bhavan central library.\n"
     ]
    },
    {
     "name": "stdout",
     "output_type": "stream",
     "text": [
      "\n",
      "\n",
      "\u001b[1m> Entering new ConversationalRetrievalChain chain...\u001b[0m\n",
      "\n",
      "\n",
      "\u001b[1m> Entering new LLMChain chain...\u001b[0m\n",
      "Prompt after formatting:\n",
      "\u001b[32;1m\u001b[1;3mGiven the following conversation and a follow up question, rephrase the follow up question to be a standalone question, in its original language.\n",
      "\n",
      "Chat History:\n",
      "\n",
      "Human: what is the library's name\n",
      "Assistant: The library's name is Vigyan Bhavan central library.\n",
      "Follow Up Input: what is the library's name\n",
      "Standalone question:\u001b[0m\n",
      "\n",
      "\u001b[1m> Finished chain.\u001b[0m\n",
      "\n",
      "\n",
      "\u001b[1m> Entering new StuffDocumentsChain chain...\u001b[0m\n",
      "\n",
      "\n",
      "\u001b[1m> Entering new LLMChain chain...\u001b[0m\n",
      "Prompt after formatting:\n",
      "\u001b[32;1m\u001b[1;3mSystem: Use the following pieces of context to answer the user's question. \n",
      "If you don't know the answer, just say that you don't know, don't try to make up an answer.\n",
      "----------------\n",
      "// File: campus_facilities.md\n",
      "# Infrastructure\n",
      "\n",
      "## Academic Facilities\n",
      "Vigyan Bhavan central library houses 85,000+ volumes with IEEE access. Agastya supercomputing lab features 20 PFLOPS capacity while Takshashila innovation complex offers 3D printing and IoT sandbox. \n",
      "\n",
      "## Wellness & Recreation\n",
      "Arogya medical center provides telemedicine facilities. The campus features Olympic-size swimming pool, cricket academy, and Rasayan food court serving regional cuisines. Dedicated meditation gardens and Vipassana cells support mental wellness.\n",
      "\n",
      "// File: campus_facilities.md\n",
      "# Infrastructure\n",
      "\n",
      "## Academic Facilities\n",
      "Vigyan Bhavan central library houses 85,000+ volumes with IEEE access. Agastya supercomputing lab features 20 PFLOPS capacity while Takshashila innovation complex offers 3D printing and IoT sandbox. \n",
      "\n",
      "## Wellness & Recreation\n",
      "Arogya medical center provides telemedicine facilities. The campus features Olympic-size swimming pool, cricket academy, and Rasayan food court serving regional cuisines. Dedicated meditation gardens and Vipassana cells support mental wellness.\n",
      "\n",
      "// File: campus_facilities.md\n",
      "# Infrastructure\n",
      "\n",
      "## Academic Facilities\n",
      "Vigyan Bhavan central library houses 85,000+ volumes with IEEE access. Agastya supercomputing lab features 20 PFLOPS capacity while Takshashila innovation complex offers 3D printing and IoT sandbox. \n",
      "\n",
      "## Wellness & Recreation\n",
      "Arogya medical center provides telemedicine facilities. The campus features Olympic-size swimming pool, cricket academy, and Rasayan food court serving regional cuisines. Dedicated meditation gardens and Vipassana cells support mental wellness.\n",
      "\n",
      "// File: departments.md\n",
      "# Academic Departments\n",
      "\n",
      "## Department of Computer Engineering\n",
      "Headed by Dr. Rajeev Iyer, this department features 22 faculty members specializing in quantum computing and NLP. The Project Genesis lab develops AI solutions for agricultural challenges with Ministry of Electronics grants. \n",
      "\n",
      "## Department of Sustainable Technologies\n",
      "Led by Dr. Ananya Reddy, this interdisciplinary department focuses on climate-resilient infrastructure. Their GreenTech Hub collaborates with Pune Municipal Corporation on urban sustainability projects.\n",
      "Human: What is the name of the library?\u001b[0m\n",
      "\n",
      "\u001b[1m> Finished chain.\u001b[0m\n",
      "\n",
      "\u001b[1m> Finished chain.\u001b[0m\n",
      "\n",
      "\u001b[1m> Finished chain.\u001b[0m\n"
     ]
    }
   ],
   "source": [
    "from langchain_core.callbacks import StdOutCallbackHandler  \n",
    "#check the amount of context being sent\n",
    "\n",
    "llm = ChatGroq(\n",
    "    model_name=MODEL,\n",
    "    groq_api_key=os.getenv(\"GROQ_API_KEY\")\n",
    ")\n",
    "\n",
    "# Memory setup\n",
    "memory = ConversationBufferMemory(\n",
    "    memory_key='chat_history',\n",
    "    return_messages=True\n",
    ")\n",
    "\n",
    "# Retriever from Chroma\n",
    "retriever = vectorstore.as_retriever()\n",
    "\n",
    "# Conversation chain\n",
    "conversation_chain = ConversationalRetrievalChain.from_llm(\n",
    "    llm=llm,\n",
    "    retriever=retriever,\n",
    "    memory=memory,\n",
    "    callbacks=[StdOutCallbackHandler()]\n",
    ")\n",
    "\n",
    "query = \"what is the library's name\"\n",
    "result = conversation_chain.invoke({\"question\": query})\n",
    "print(result[\"answer\"])"
   ]
  },
  {
   "cell_type": "code",
   "execution_count": null,
   "id": "41e13e0f",
   "metadata": {},
   "outputs": [],
   "source": []
  }
 ],
 "metadata": {
  "kernelspec": {
   "display_name": "venv",
   "language": "python",
   "name": "python3"
  },
  "language_info": {
   "codemirror_mode": {
    "name": "ipython",
    "version": 3
   },
   "file_extension": ".py",
   "mimetype": "text/x-python",
   "name": "python",
   "nbconvert_exporter": "python",
   "pygments_lexer": "ipython3",
   "version": "3.13.1"
  }
 },
 "nbformat": 4,
 "nbformat_minor": 5
}
